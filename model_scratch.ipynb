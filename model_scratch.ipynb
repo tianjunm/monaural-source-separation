{
 "cells": [
  {
   "cell_type": "code",
   "execution_count": 44,
   "metadata": {},
   "outputs": [],
   "source": [
    "import torch\n",
    "import torch.optim as optim\n",
    "import torch.nn as nn\n",
    "import model.dataset as ds\n",
    "import model.models"
   ]
  },
  {
   "cell_type": "code",
   "execution_count": 2,
   "metadata": {},
   "outputs": [],
   "source": [
    "d = ds.SignalDataset(root_dir='data/a1_spectrograms/')"
   ]
  },
  {
   "cell_type": "code",
   "execution_count": 3,
   "metadata": {},
   "outputs": [],
   "source": [
    "dataloader = torch.utils.data.DataLoader(d, batch_size=32, shuffle=True)"
   ]
  },
  {
   "cell_type": "code",
   "execution_count": 4,
   "metadata": {},
   "outputs": [],
   "source": [
    "for i, info in enumerate(dataloader):\n",
    "    aggregate = info['aggregate']\n",
    "    ground_truths = [gt for gt in info['ground_truths']]\n",
    "    break\n"
   ]
  },
  {
   "cell_type": "code",
   "execution_count": 5,
   "metadata": {},
   "outputs": [],
   "source": [
    "bs = 32\n",
    "net = model.models.Baseline(1025, bs, seq_len=173, num_sources=2)"
   ]
  },
  {
   "cell_type": "code",
   "execution_count": 6,
   "metadata": {},
   "outputs": [
    {
     "name": "stdout",
     "output_type": "stream",
     "text": [
      "torch.Size([32, 173, 1025])\n",
      "tensor([1.4197e-19, 9.8981e-19, 1.4690e-17,  ..., 8.6916e-19, 1.9786e-18,\n",
      "        1.6256e-18])\n",
      "tensor([1.4197e-19, 9.8981e-19, 1.4690e-17,  ..., 8.6916e-19, 1.9786e-18,\n",
      "        1.6256e-18])\n",
      "torch.Size([173, 32, 1025])\n"
     ]
    }
   ],
   "source": [
    "\n",
    "# print(aggregate[:, 0])\n",
    "# agg = torch.t(aggregate)\n",
    "# print(agg[0, :])\n",
    "print(aggregate.size())\n",
    "print(aggregate[1, 1, :])\n",
    "seq_len = aggregate.size()[1]\n",
    "aggs = [aggregate[:, t, :] for t in range(seq_len)]\n",
    "x = torch.cat(aggs).view(173, bs, -1)\n",
    "print(x[1, 1, :])\n",
    "print(x.size())"
   ]
  },
  {
   "cell_type": "code",
   "execution_count": 34,
   "metadata": {},
   "outputs": [],
   "source": [
    "def reshape(x, seq_len, bs):\n",
    "    x = [x[:, ts, :] for ts in range(seq_len)]\n",
    "    x = torch.cat(x).view(seq_len, bs, -1)\n",
    "    return x\n",
    "\n",
    "\n",
    "def calc_dists(preds, gts):\n",
    "    \"\"\"\n",
    "    Args:\n",
    "        preds: n_sources * [seq_len, bs, input_dim]\n",
    "        gts: n_sources * [seq_len, bs, input_dim]\n",
    "    \n",
    "    Returns:\n",
    "        dists: [bs, n_sources]\n",
    "    \"\"\"\n",
    "    n_sources = len(preds)\n",
    "    assert n_sources == len(gts)\n",
    "\n",
    "    bs = preds[0].size()[1]\n",
    "    # TODO: greedy assignment\n",
    "    dists = torch.zeros(bs, n_sources)\n",
    "\n",
    "    for src_id in range(n_sources):\n",
    "        pred = preds[src_id]\n",
    "        gt = gts[src_id]\n",
    "#         print(pred.size())\n",
    "#         print(gt.size())\n",
    "        for batch in range(bs):\n",
    "            dist = torch.norm(torch.squeeze(pred[:, batch, :] - gt[:, batch, :], dim=1), 2)\n",
    "            dists[batch, src_id] = dist\n",
    "        \n",
    "    return dists\n",
    "\n",
    "\n",
    "class MinLoss(nn.Module):\n",
    "    \"\"\"Custom loss function #1\n",
    "\n",
    "    Compare the distance from output with its closest ground truth.\n",
    "\n",
    "    \"\"\"\n",
    "    def __init__(self):\n",
    "        # nn.Module.__init__(self)\n",
    "        super(MinLoss, self).__init__()\n",
    "\n",
    "\n",
    "    def forward(self, predictions, ground_truths):\n",
    "        \"\"\"\n",
    "        Args:\n",
    "            prediction: num_sources * [seq_len, bs, input_dim]\n",
    "            ground_truths: num_sources * [bs, seq_len, input_dim] \n",
    "        Returns:\n",
    "            loss: [bs,]\n",
    "        \"\"\"\n",
    "        seq_len = predictions[0].size()[0]\n",
    "        bs = predictions[0].size()[1]\n",
    "        # reshape gts into seq_len, bs, input_dim\n",
    "        gts = [reshape(gt, seq_len, bs) for gt in ground_truths]\n",
    "\n",
    "        # get distance measure (bs * num_sources)\n",
    "        dists = calc_dists(predictions, gts)\n",
    "        \n",
    "        loss = torch.sum(dists)\n",
    "        \n",
    "        return loss\n"
   ]
  },
  {
   "cell_type": "code",
   "execution_count": 22,
   "metadata": {},
   "outputs": [
    {
     "name": "stdout",
     "output_type": "stream",
     "text": [
      "[[ True  True  True ...  True  True  True]\n",
      " [ True  True  True ...  True  True  True]\n",
      " [ True  True  True ...  True  True  True]\n",
      " ...\n",
      " [ True  True  True ...  True  True  True]\n",
      " [ True  True  True ...  True  True  True]\n",
      " [ True  True  True ...  True  True  True]]\n",
      "[[ True  True  True ...  True  True  True]\n",
      " [ True  True  True ...  True  True  True]\n",
      " [ True  True  True ...  True  True  True]\n",
      " ...\n",
      " [ True  True  True ...  True  True  True]\n",
      " [ True  True  True ...  True  True  True]\n",
      " [ True  True  True ...  True  True  True]]\n"
     ]
    }
   ],
   "source": [
    "import numpy as np\n",
    "agg = np.load('./new_spect.npy')\n",
    "\n",
    "def concat(m):\n",
    "    num_features, nrows, ncols = m.shape\n",
    "    result = np.zeros((nrows*num_features, ncols))\n",
    "\n",
    "    for i in range(num_features):\n",
    "        start = i * nrows;\n",
    "        end = (i + 1) * nrows;\n",
    "        result[start:end, :] = agg[i]\n",
    "    return result\n",
    "\n",
    "result = concat(agg)"
   ]
  },
  {
   "cell_type": "code",
   "execution_count": 24,
   "metadata": {},
   "outputs": [],
   "source": [
    "preds = net(aggregate)"
   ]
  },
  {
   "cell_type": "code",
   "execution_count": 25,
   "metadata": {},
   "outputs": [
    {
     "data": {
      "text/plain": [
       "torch.Size([173, 32, 1025])"
      ]
     },
     "execution_count": 25,
     "metadata": {},
     "output_type": "execute_result"
    }
   ],
   "source": [
    "preds[0].size()"
   ]
  },
  {
   "cell_type": "code",
   "execution_count": 37,
   "metadata": {},
   "outputs": [],
   "source": [
    "criterion = MinLoss()"
   ]
  },
  {
   "cell_type": "code",
   "execution_count": 38,
   "metadata": {},
   "outputs": [],
   "source": [
    "loss = criterion(preds, ground_truths)"
   ]
  },
  {
   "cell_type": "code",
   "execution_count": 39,
   "metadata": {},
   "outputs": [
    {
     "data": {
      "text/plain": [
       "tensor(797412.7500, grad_fn=<SumBackward0>)"
      ]
     },
     "execution_count": 39,
     "metadata": {},
     "output_type": "execute_result"
    }
   ],
   "source": [
    "loss"
   ]
  },
  {
   "cell_type": "code",
   "execution_count": 40,
   "metadata": {},
   "outputs": [],
   "source": [
    "loss.backward()"
   ]
  },
  {
   "cell_type": "code",
   "execution_count": 45,
   "metadata": {},
   "outputs": [],
   "source": [
    "optimizer = optim.SGD(net.parameters(), lr=0.01, momentum=0.9)\n",
    "optimizer.step()\n",
    "preds2 = net(aggregate)"
   ]
  },
  {
   "cell_type": "code",
   "execution_count": 46,
   "metadata": {},
   "outputs": [
    {
     "data": {
      "text/plain": [
       "tensor(796459.9375, grad_fn=<SumBackward0>)"
      ]
     },
     "execution_count": 46,
     "metadata": {},
     "output_type": "execute_result"
    }
   ],
   "source": [
    "loss2 = criterion(preds2, ground_truths)\n",
    "loss2"
   ]
  },
  {
   "cell_type": "code",
   "execution_count": 180,
   "metadata": {},
   "outputs": [
    {
     "name": "stdout",
     "output_type": "stream",
     "text": [
      "[[[1 3 4]\n",
      "  [2 5 6]\n",
      "  [7 8 9]]\n",
      "\n",
      " [[5 9 8]\n",
      "  [4 2 6]\n",
      "  [3 1 7]]]\n",
      "[[[0 2 3]\n",
      "  [1 4 5]\n",
      "  [6 7 8]]\n",
      "\n",
      " [[4 8 7]\n",
      "  [3 1 5]\n",
      "  [2 0 6]]]\n",
      "[0 0]\n",
      "[2 1]\n",
      "[1 1]\n",
      "[1 0]\n",
      "[2 2]\n",
      "[0 2]\n"
     ]
    }
   ],
   "source": [
    "# each batch has a distance matrix [d * d]\n",
    "# number in each cell represents rank of each cell after sorting\n",
    "# use (?) algorithm to pick d cells\n",
    "import numpy as np\n",
    "dists = np.array([[[1, 3, 4],\n",
    "                   [2, 5, 6],\n",
    "                   [7, 8, 9]],\n",
    "                  [[5, 9, 8],\n",
    "                   [4, 2, 6],\n",
    "                   [3, 1, 7]]])\n",
    "print(dists)\n",
    "\n",
    "def get_orders(dists):\n",
    "    num_batches = dists.shape[0]\n",
    "    d = dists.shape[1]\n",
    "    orders = np.zeros(dists.shape)\n",
    "    for batch in range(num_batches):\n",
    "        flattened = np.copy(dists[batch, :, :].reshape(1, -1))\n",
    "        indices = np.argsort(flattened)\n",
    "        flattened[:, indices] = np.arange(flattened.size)\n",
    "        orders[batch, :, :] = flattened.reshape(dists.shape[1], -1)\n",
    "\n",
    "#         # mask diagonal\n",
    "#         np.fill_diagonal(orders[batch, :, :], np.ones(d) * (np.max(dists) + 1))\n",
    "    \n",
    "    return orders.astype(int)\n",
    "\n",
    "def get_seq(orders):\n",
    "    num_batches = dists.shape[0]\n",
    "    d = dists.shape[1]\n",
    "    mask = np.max(orders) + 1\n",
    "    for i in range(d):\n",
    "        for batch in range(num_batches):\n",
    "            m = np.argmin(orders[batch, :, :])\n",
    "#             print(m)\n",
    "            indices = np.array([(m // d), (m % d)])\n",
    "            print(indices)\n",
    "#             print(\"orders:\")\n",
    "#             print(orders)\n",
    "\n",
    "            # mask row & col\n",
    "            orders[batch, indices[0], :] = np.ones(d) * mask\n",
    "            orders[batch, :, indices[1]] = np.ones(d) * mask\n",
    "    # return a list of pairs\n",
    "\n",
    "orders = get_orders(dists)\n",
    "print(orders)\n",
    "get_seq(orders)"
   ]
  },
  {
   "cell_type": "code",
   "execution_count": 16,
   "metadata": {},
   "outputs": [
    {
     "name": "stdout",
     "output_type": "stream",
     "text": [
      "2\n",
      "torch.Size([32, 173, 1025])\n",
      "torch.Size([173, 1025])\n"
     ]
    }
   ],
   "source": [
    "print(len(ground_truths))\n",
    "print(ground_truths[0].size())\n",
    "gt = net.reshape(ground_truths[0])\n",
    "print(torch.squeeze(gt[:, 0, :], dim=1).size())"
   ]
  }
 ],
 "metadata": {
  "kernelspec": {
   "display_name": "Python 3",
   "language": "python",
   "name": "python3"
  },
  "language_info": {
   "codemirror_mode": {
    "name": "ipython",
    "version": 3
   },
   "file_extension": ".py",
   "mimetype": "text/x-python",
   "name": "python",
   "nbconvert_exporter": "python",
   "pygments_lexer": "ipython3",
   "version": "3.6.8"
  }
 },
 "nbformat": 4,
 "nbformat_minor": 2
}
