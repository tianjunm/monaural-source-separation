{
 "cells": [
  {
   "cell_type": "code",
   "execution_count": 83,
   "metadata": {},
   "outputs": [],
   "source": [
    "import torch\n",
    "%reload_ext autoreload\n",
    "%autoreload 2\n",
    "from model.models import *"
   ]
  },
  {
   "cell_type": "code",
   "execution_count": 84,
   "metadata": {},
   "outputs": [],
   "source": [
    "device = torch.device(\"cuda:0\" if torch.cuda.is_available() else \"cpu\")\n",
    "c1 = MinLoss(device)\n",
    "c2 = MinLoss(device, metric='correlation')\n",
    "c3 = nn.MSELoss()"
   ]
  },
  {
   "cell_type": "code",
   "execution_count": 85,
   "metadata": {},
   "outputs": [],
   "source": [
    "seq_len = 2\n",
    "bs = 1\n",
    "input_dim = 3"
   ]
  },
  {
   "cell_type": "code",
   "execution_count": 101,
   "metadata": {},
   "outputs": [],
   "source": [
    "arr1 = [[[1,1,1]],\n",
    "        [[2,2,2]]]\n",
    "\n",
    "arr2 = [[[2,2,2]],\n",
    "        [[1,1,1]]]\n",
    "arr3 = [[[3,2,1]],\n",
    "        [[1,1,1]]]\n",
    "\n",
    "p1 = np.array(arr1).astype(float)\n",
    "p2 = np.array(arr2).astype(float)\n",
    "p3 = np.array(arr3).astype(float)\n",
    "g2 = np.array([[[2,2,2],\n",
    "                [1,1,1]]]).astype(float)\n",
    "g1 = np.array([[[1,1,1],\n",
    "                [2,2,2]]]).astype(float)\n",
    "g3 = np.array([[[3,2,1],\n",
    "                [1,1,1]]]).astype(float)"
   ]
  },
  {
   "cell_type": "code",
   "execution_count": 115,
   "metadata": {},
   "outputs": [
    {
     "name": "stdout",
     "output_type": "stream",
     "text": [
      "0.0\n",
      "(tensor([1., 1., 1.]),)\n"
     ]
    }
   ],
   "source": [
    "# o1 = c1([torch.from_numpy(p1),\n",
    "#     torch.from_numpy(p2),\n",
    "#     torch.from_numpy(p3)], \n",
    "#    [torch.from_numpy(g3),\n",
    "#     torch.from_numpy(g2),\n",
    "#     torch.from_numpy(g1)]).item()\n",
    "\n",
    "o2 = c2([torch.from_numpy(p1),\n",
    "    torch.from_numpy(p2),\n",
    "    torch.from_numpy(p3)], \n",
    "   [torch.from_numpy(g3),\n",
    "    torch.from_numpy(g2),\n",
    "    torch.from_numpy(g1)]).item()\n",
    "\n",
    "i = torch.from_numpy(np.array([p1, p2, p3]))\n",
    "t = torch.from_numpy(np.array([p2, p1, p3]))\n",
    "\n",
    "# print(i)\n",
    "# print(t)\n",
    "# o3 = c3([i, i], [t, t])\n",
    "\n",
    "print(o2)\n",
    "# print(o3)\n",
    "\n",
    "print(torch.split(torch.ones(3), 3))"
   ]
  },
  {
   "cell_type": "code",
   "execution_count": 66,
   "metadata": {},
   "outputs": [],
   "source": [
    "assert(c1([torch.from_numpy(p1),torch.from_numpy(p2)], [torch.from_numpy(g1),torch.from_numpy(g2)]).item() == 0)\n",
    "assert(c2([torch.from_numpy(p1),torch.from_numpy(p2)], [torch.from_numpy(g1),torch.from_numpy(g2)]).item() == 0)"
   ]
  },
  {
   "cell_type": "code",
   "execution_count": null,
   "metadata": {},
   "outputs": [],
   "source": []
  }
 ],
 "metadata": {
  "kernelspec": {
   "display_name": "Python 3",
   "language": "python",
   "name": "python3"
  },
  "language_info": {
   "codemirror_mode": {
    "name": "ipython",
    "version": 3
   },
   "file_extension": ".py",
   "mimetype": "text/x-python",
   "name": "python",
   "nbconvert_exporter": "python",
   "pygments_lexer": "ipython3",
   "version": "3.6.5"
  }
 },
 "nbformat": 4,
 "nbformat_minor": 2
}
